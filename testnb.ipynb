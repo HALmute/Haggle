{
  "nbformat": 4,
  "nbformat_minor": 0,
  "metadata": {
    "colab": {
      "name": "testnb.ipynb",
      "provenance": [],
      "authorship_tag": "ABX9TyMq6U6y7tEZ4c3+FBsfp5+v",
      "include_colab_link": true
    },
    "kernelspec": {
      "name": "python3",
      "display_name": "Python 3"
    }
  },
  "cells": [
    {
      "cell_type": "markdown",
      "metadata": {
        "id": "view-in-github",
        "colab_type": "text"
      },
      "source": [
        "<a href=\"https://colab.research.google.com/github/HALmute/Haggle/blob/main/testnb.ipynb\" target=\"_parent\"><img src=\"https://colab.research.google.com/assets/colab-badge.svg\" alt=\"Open In Colab\"/></a>"
      ]
    },
    {
      "cell_type": "markdown",
      "metadata": {
        "id": "-Cilt47lEcL8"
      },
      "source": [
        "# Test Code"
      ]
    },
    {
      "cell_type": "code",
      "metadata": {
        "id": "6nPIvux1_FaJ"
      },
      "source": [
        "# GoogleDriveのディレクトリを指定\n",
        "%cd drive/'My Drive'/Colab/DS/atma_5/input"
      ],
      "execution_count": null,
      "outputs": []
    },
    {
      "cell_type": "code",
      "metadata": {
        "id": "F0zAM0bHEX6K"
      },
      "source": [
        "# GoogleDriveをマウント\n",
        "from google.colab import drive\n",
        "drive.mount('/content/drive')"
      ],
      "execution_count": null,
      "outputs": []
    },
    {
      "cell_type": "code",
      "metadata": {
        "id": "FuFOsDvdEX9t"
      },
      "source": [
        "import datetime\n",
        "import time\n",
        "import pandas as pd\n",
        "import numpy as np\n",
        "import seaborn as sns\n",
        "sns.set_style('darkgrid')# dark mode\n",
        "import matplotlib.pyplot as plt\n",
        "%matplotlib inline\n",
        "\n",
        "# import pandas_profiling as pdp\n",
        "\n",
        "import sklearn\n",
        "from sklearn import metrics\n",
        "from sklearn.metrics import accuracy_score, auc, log_loss, roc_curve, roc_auc_score\n",
        "from sklearn.metrics import average_precision_score\n",
        "from sklearn.model_selection import train_test_split, KFold, StratifiedKFold, cross_validate, cross_val_score\n",
        "from sklearn.preprocessing import LabelEncoder, OneHotEncoder\n",
        "from IPython.display import display\n",
        "\n",
        "from sklearn.ensemble import RandomForestClassifier\n",
        "# from sklearn.linear_model import LogisticRegression\n",
        "import lightgbm as lgb\n",
        "\n",
        "import warnings\n",
        "warnings.filterwarnings('ignore')\n",
        "# pd.options.display.max_columns = 50\n",
        "# pd.options.display.max_rows = 50\n",
        "pd.set_option('display.max_columns', 500)\n",
        "pd.set_option('display.max_rows', 500)"
      ],
      "execution_count": null,
      "outputs": []
    },
    {
      "cell_type": "code",
      "metadata": {
        "id": "rjJcHdN0EYFs"
      },
      "source": [
        ""
      ],
      "execution_count": null,
      "outputs": []
    },
    {
      "cell_type": "code",
      "metadata": {
        "id": "BITO9jpREYKG"
      },
      "source": [
        ""
      ],
      "execution_count": null,
      "outputs": []
    },
    {
      "cell_type": "code",
      "metadata": {
        "id": "lCf78OUzEYVQ"
      },
      "source": [
        ""
      ],
      "execution_count": null,
      "outputs": []
    },
    {
      "cell_type": "code",
      "metadata": {
        "id": "wIelojZxEYRc"
      },
      "source": [
        ""
      ],
      "execution_count": null,
      "outputs": []
    },
    {
      "cell_type": "code",
      "metadata": {
        "id": "cD1M7e1REX31"
      },
      "source": [
        ""
      ],
      "execution_count": null,
      "outputs": []
    }
  ]
}